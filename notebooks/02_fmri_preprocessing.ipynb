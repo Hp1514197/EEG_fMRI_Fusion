{
 "cells": [
  {
   "cell_type": "code",
   "execution_count": null,
   "id": "99d3c6d7",
   "metadata": {},
   "outputs": [],
   "source": [
    "from preprocessing.fmri_preprocess import load_fmri, preprocess_fmri\n",
    "import nilearn.plotting as plotting\n",
    "\n",
    "fmri_img = load_fmri(\"../data/sample_fmri.nii.gz\")\n",
    "fmri_cleaned = preprocess_fmri(fmri_img)\n",
    "\n",
    "# Show before/after\n",
    "plotting.plot_img(fmri_img, title=\"Raw fMRI\")\n",
    "plotting.plot_img(fmri_cleaned, title=\"Preprocessed fMRI\")"
   ]
  }
 ],
 "metadata": {
  "language_info": {
   "name": "python"
  }
 },
 "nbformat": 4,
 "nbformat_minor": 5
}
