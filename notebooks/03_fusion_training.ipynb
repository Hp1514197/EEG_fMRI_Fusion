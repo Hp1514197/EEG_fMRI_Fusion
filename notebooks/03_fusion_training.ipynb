{
 "cells": [
  {
   "cell_type": "code",
   "execution_count": null,
   "id": "b842dfa5",
   "metadata": {},
   "outputs": [],
   "source": [
    "from fusion.fusion_model import train_fusion, evaluate_fusion\n",
    "import matplotlib.pyplot as plt\n",
    "\n",
    "# Train model\n",
    "history, model = train_fusion(\"../data/processed_eeg.npy\", \"../data/processed_fmri.npy\")\n",
    "\n",
    "# Plot training history\n",
    "plt.plot(history['loss'], label='Loss')\n",
    "plt.plot(history['val_loss'], label='Val Loss')\n",
    "plt.legend()\n",
    "plt.show()\n",
    "\n",
    "# Evaluate\n",
    "evaluate_fusion(model, \"../data/test_eeg.npy\", \"../data/test_fmri.npy\")"
   ]
  }
 ],
 "metadata": {
  "language_info": {
   "name": "python"
  }
 },
 "nbformat": 4,
 "nbformat_minor": 5
}
