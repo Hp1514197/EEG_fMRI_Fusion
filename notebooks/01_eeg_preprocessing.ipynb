{
 "cells": [
  {
   "cell_type": "code",
   "execution_count": null,
   "id": "f3474532",
   "metadata": {},
   "outputs": [],
   "source": [
    "import sys\n",
    "sys.path.append(\"..\")  # so we can import from project folders\n",
    "\n",
    "from preprocessing.eeg_preprocess import load_eeg, preprocess_eeg\n",
    "import matplotlib.pyplot as plt\n",
    "\n",
    "# Load sample EEG\n",
    "raw = load_eeg(\"../data/sample_eeg.edf\")\n",
    "preprocessed = preprocess_eeg(raw)\n",
    "\n",
    "# Plot raw vs preprocessed\n",
    "raw.plot(title=\"Raw EEG\")\n",
    "preprocessed.plot(title=\"Preprocessed EEG\")"
   ]
  }
 ],
 "metadata": {
  "language_info": {
   "name": "python"
  }
 },
 "nbformat": 4,
 "nbformat_minor": 5
}
